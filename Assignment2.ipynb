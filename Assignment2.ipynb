{
 "cells": [
  {
   "cell_type": "code",
   "execution_count": 140,
   "id": "36a7c57a-3432-4d7e-bf40-e2eacc10e4d4",
   "metadata": {},
   "outputs": [
    {
     "name": "stdout",
     "output_type": "stream",
     "text": [
      "Customer 1 could not accept a loan, placed in Class 0\n"
     ]
    }
   ],
   "source": [
    "import pandas as pd\n",
    "from sklearn.model_selection import train_test_split\n",
    "from sklearn.neighbors import KNeighborsClassifier\n",
    "from sklearn.preprocessing import StandardScaler\n",
    "\n",
    "data = pd.read_csv(\"UniversalBank.csv\")\n",
    "# print(data.columns)\n",
    "\n",
    "data = data.drop(['ID', 'ZIP Code'], axis=1)\n",
    "data = pd.get_dummies(data, columns=['Education'], prefix='Education', drop_first=True)\n",
    "\n",
    "# print(data.columns.tolist())\n",
    "# ['Age', 'Experience', 'Income', 'Family', 'CCAvg', 'Mortgage', 'Personal Loan', 'Securities Account', 'CD Account', 'Online', 'CreditCard', 'Education_2', 'Education_3']\n",
    "\n",
    "customer1 = pd.DataFrame(\n",
    "    {\n",
    "        'Age': [40], \n",
    "        'Experience': [10], \n",
    "        'Income': [84], \n",
    "        'Family': [2], \n",
    "        'CCAvg': [2], \n",
    "        'Mortgage': [0], \n",
    "        'Securities Account': [0], \n",
    "        'CD Account': [0], \n",
    "        'Online': [1], \n",
    "        'CreditCard': [1],\n",
    "        'Education_2': [1],\n",
    "        'Education_3': [0]\n",
    "    }\n",
    ")\n",
    "\n",
    "x = data.drop('Personal Loan', axis=1)\n",
    "y = data['Personal Loan']\n",
    "\n",
    "x_train, x_val, y_train, y_val = train_test_split(x, y, test_size=0.4, random_state=1)\n",
    "\n",
    "scaler = StandardScaler()\n",
    "x_train = scaler.fit_transform(x_train)\n",
    "x_val = scaler.transform(x_val)\n",
    "\n",
    "knn = KNeighborsClassifier(n_neighbors=1)\n",
    "knn.fit(x_train, y_train)\n",
    "\n",
    "customer1Scaled = scaler.transform(customer1)\n",
    "pred = knn.predict(customer1Scaled)\n",
    "\n",
    "if pred[0] == 1:\n",
    "    print(\"Customer 1 would accept a loan, placed in Class 1\")\n",
    "else:\n",
    "    print(\"Customer 1 could not accept a loan, placed in Class 0\")"
   ]
  },
  {
   "cell_type": "code",
   "execution_count": 141,
   "id": "69f57668-7d94-4157-9562-e6990bab3439",
   "metadata": {},
   "outputs": [
    {
     "name": "stdout",
     "output_type": "stream",
     "text": [
      "The best K:  9\n",
      "The precision score of K=9 is 98%\n"
     ]
    }
   ],
   "source": [
    "# 2\n",
    "from sklearn.metrics import precision_score\n",
    "kDict = {}\n",
    "\n",
    "for k in range(1, 16):\n",
    "    # skipping number of clusters that are even\n",
    "    if k % 2 == 0:\n",
    "        continue \n",
    "    else:\n",
    "        knn = KNeighborsClassifier(n_neighbors=k)\n",
    "        knn.fit(x_train, y_train)\n",
    "        y_pred = knn.predict(x_val)\n",
    "        kDict[str(k)] = (precision_score(y_val, y_pred), y_pred)\n",
    "\n",
    "bestKey = 0\n",
    "bestValue = 0\n",
    "bestPred = None\n",
    "\n",
    "for key, value in kDict.items():\n",
    "    if value[0] > bestValue:\n",
    "        bestValue = value[0]\n",
    "        bestPred = value[1]\n",
    "        bestKey = key\n",
    "\n",
    "print(\"The best K: \", bestKey)\n",
    "print(f\"The precision score of K={bestKey} is {int(100 * bestValue)}%\")"
   ]
  },
  {
   "cell_type": "code",
   "execution_count": 142,
   "id": "6a7ec22a-7bc3-4bb8-bd69-0804de6efbc6",
   "metadata": {},
   "outputs": [
    {
     "name": "stdout",
     "output_type": "stream",
     "text": [
      "Best K:  9 and confusion matrix: \n",
      "[[1806    1]\n",
      " [ 102   91]]\n"
     ]
    }
   ],
   "source": [
    "# 3\n",
    "from sklearn.metrics import confusion_matrix\n",
    "bestPred = bestPred\n",
    "bestK = bestKey\n",
    "print(\"Best K: \", bestK, \"and confusion matrix: \")\n",
    "print(confusion_matrix(y_val, bestPred))"
   ]
  },
  {
   "cell_type": "code",
   "execution_count": 143,
   "id": "258317fa-6e0f-481e-b346-9c08215046b0",
   "metadata": {},
   "outputs": [
    {
     "name": "stdout",
     "output_type": "stream",
     "text": [
      "Customer 2 could not accept a loan, placed in Class 0\n"
     ]
    }
   ],
   "source": [
    "# 4\n",
    "from sklearn.metrics import precision_score\n",
    "\n",
    "customer2 = pd.DataFrame(\n",
    "    {\n",
    "        'Age': [40], \n",
    "        'Experience': [10], \n",
    "        'Income': [84], \n",
    "        'Family': [2], \n",
    "        'CCAvg': [2], \n",
    "        'Mortgage': [0], \n",
    "        'Securities Account': [0], \n",
    "        'CD Account': [0], \n",
    "        'Online': [1], \n",
    "        'CreditCard': [1],\n",
    "        'Education_2': [1],\n",
    "        'Education_3': [0]\n",
    "    }\n",
    ")\n",
    "customer2Scaled = scaler.transform(customer2)\n",
    "customerDict = {}\n",
    "\n",
    "for k in range(1, 16):\n",
    "    if k % 2 == 0:\n",
    "        continue \n",
    "    else:\n",
    "        knn = KNeighborsClassifier(n_neighbors=k)\n",
    "        knn.fit(x_train, y_train)\n",
    "        y_pred = knn.predict(x_val)\n",
    "        kDict[str(k)] = (precision_score(y_val, y_pred), y_pred)\n",
    "\n",
    "bestKey = 0\n",
    "bestValue = 0\n",
    "bestPred = None\n",
    "\n",
    "for key, value in kDict.items():\n",
    "    if value[0] > bestValue:\n",
    "        bestValue = value[0]\n",
    "        bestPred = value[1]\n",
    "        bestKey = key\n",
    "\n",
    "if bestPred[0] == 1:\n",
    "    print(\"Customer 2 would accept a loan, placed in Class 1\")\n",
    "else:\n",
    "    print(\"Customer 2 could not accept a loan, placed in Class 0\")\n"
   ]
  },
  {
   "cell_type": "code",
   "execution_count": 144,
   "id": "3f1e1cf1-e2ee-4822-b4eb-551937098104",
   "metadata": {},
   "outputs": [
    {
     "name": "stdout",
     "output_type": "stream",
     "text": [
      "x train: 50.0%\n",
      "y train: 50.0%\n",
      "x val: 30.0%\n",
      "y val: 30.0%\n",
      "x_test: 20.0%\n",
      "y_test: 20.0%\n",
      "\n",
      "Training set precision score: 96%\n",
      "[[2253    6]\n",
      " [  94  147]]\n",
      "\n",
      "Testing set precision score: 91%\n",
      "[[908   4]\n",
      " [ 43  45]]\n",
      "\n",
      "Validation set precision score: 95%\n",
      "[[1346    3]\n",
      " [  82   69]]\n",
      "The training set is used to train the model.  The precision score and confusion maxtrix both show very accurate predictions because the values have been seen before by the model.\n",
      "The testing set is used to introduce unseen data to the model.\n",
      "The validation set is used to assess the model for a general prediction.  The validation set and testing set both show similar results which would indicate the model is able to be applied to unseen data and it would have similar performance for different sets of data.\n"
     ]
    }
   ],
   "source": [
    "#5\n",
    "from sklearn.metrics import confusion_matrix, precision_score\n",
    "\n",
    "x_train, x_temp, y_train, y_temp = train_test_split(x, y, test_size=0.5, random_state=1)\n",
    "x_val, x_test, y_val, y_test = train_test_split(x_temp, y_temp, test_size=0.4, random_state=1)\n",
    "\n",
    "print(\"x train:\", str(x_train.shape[0]/x.shape[0] * 100) + \"%\")\n",
    "print(\"y train:\", str(y_train.shape[0]/y.shape[0] * 100) + \"%\")\n",
    "print(\"x val:\", str(x_val.shape[0]/x.shape[0] * 100) + \"%\")\n",
    "print(\"y val:\", str(y_val.shape[0]/y.shape[0] * 100) + \"%\")\n",
    "print(\"x_test:\", str(x_test.shape[0]/x.shape[0] * 100) + \"%\")\n",
    "print(\"y_test:\", str(y_test.shape[0]/y.shape[0] * 100) + \"%\")\n",
    "\n",
    "scaler = StandardScaler()\n",
    "x_train = scaler.fit_transform(x_train)\n",
    "x_val = scaler.transform(x_val)\n",
    "x_test = scaler.transform(x_test)\n",
    "\n",
    "# best k from above is 9\n",
    "knn = KNeighborsClassifier(n_neighbors=9)\n",
    "knn.fit(x_train, y_train)\n",
    "\n",
    "y_pred = knn.predict(x_train)\n",
    "trainPrec = precision_score(y_train, y_pred)\n",
    "trainMat = confusion_matrix(y_train, y_pred)\n",
    "\n",
    "y_pred = knn.predict(x_test)\n",
    "testPrec = precision_score(y_test, y_pred)\n",
    "testMat = confusion_matrix(y_test, y_pred)\n",
    "\n",
    "y_pred = knn.predict(x_val)\n",
    "valPrec = precision_score(y_val, y_pred)\n",
    "valMat = confusion_matrix(y_val, y_pred)\n",
    "\n",
    "print(f'''\n",
    "Training set precision score: {int(100 * trainPrec)}%\n",
    "{trainMat}''')\n",
    "\n",
    "print(f'''\n",
    "Testing set precision score: {int(100 * testPrec)}%\n",
    "{testMat}''')\n",
    "\n",
    "print(f'''\n",
    "Validation set precision score: {int(100 * valPrec)}%\n",
    "{valMat}''')\n",
    "\n",
    "print(\"The training set is used to train the model.  The precision score and confusion maxtrix both show very accurate predictions because the values have been seen before by the model.\")\n",
    "print(\"The testing set is used to introduce unseen data to the model.\")\n",
    "print(\"The validation set is used to assess the model for a general prediction.  The validation set and testing set both show similar results which would indicate the model is able to be applied to unseen data and it would have similar performance for different sets of data.\")"
   ]
  }
 ],
 "metadata": {
  "kernelspec": {
   "display_name": "Python 3 (ipykernel)",
   "language": "python",
   "name": "python3"
  },
  "language_info": {
   "codemirror_mode": {
    "name": "ipython",
    "version": 3
   },
   "file_extension": ".py",
   "mimetype": "text/x-python",
   "name": "python",
   "nbconvert_exporter": "python",
   "pygments_lexer": "ipython3",
   "version": "3.10.9"
  }
 },
 "nbformat": 4,
 "nbformat_minor": 5
}
