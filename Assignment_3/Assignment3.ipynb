{
 "cells": [
  {
   "cell_type": "code",
   "execution_count": 403,
   "id": "43344a74",
   "metadata": {},
   "outputs": [
    {
     "name": "stdout",
     "output_type": "stream",
     "text": [
      "Online                      0     1\n",
      "CreditCard Personal Loan           \n",
      "0          0              792  1117\n",
      "           1               73   126\n",
      "1          0              327   477\n",
      "           1               39    49\n"
     ]
    },
    {
     "name": "stderr",
     "output_type": "stream",
     "text": [
      "/var/folders/5w/8b3ms1m57cg2kh2m0j6dywyw0000gn/T/ipykernel_64460/860559367.py:15: FutureWarning: This dataframe has a column name that matches the 'value_name' column name of the resulting Dataframe. In the future this will raise an error, please set the 'value_name' parameter of DataFrame.melt to a unique name.\n",
      "  melted = pd.melt(trainData, id_vars=[\"CreditCard\", \"Personal Loan\"], value_name=\"Online\")\n"
     ]
    }
   ],
   "source": [
    "import pandas as pd\n",
    "from sklearn.model_selection import train_test_split\n",
    "\n",
    "predictors = ['CreditCard', 'Online'] \n",
    "outcome = ['Personal Loan']\n",
    "data = pd.read_csv(\"UniversalBank.csv\")\n",
    "\n",
    "x = pd.get_dummies(data[predictors])\n",
    "y = (data[outcome])\n",
    "\n",
    "x_train, x_val, y_train, y_val = train_test_split(x, y, test_size=0.4, random_state=1)\n",
    "\n",
    "# A \n",
    "trainData = pd.concat([x_train, y_train], axis=1)\n",
    "melted = pd.melt(trainData, id_vars=[\"CreditCard\", \"Personal Loan\"], value_name=\"Online\")\n",
    "pivotTable = pd.pivot_table(melted, values='variable', index=[\"CreditCard\", \"Personal Loan\"], columns=['Online'], aggfunc=\"count\")\n",
    "print(pivotTable)"
   ]
  },
  {
   "cell_type": "code",
   "execution_count": 404,
   "id": "5d50f835-eb6c-47dd-8467-fbf633cf2b09",
   "metadata": {},
   "outputs": [
    {
     "name": "stdout",
     "output_type": "stream",
     "text": [
      "The conditional probability that a customer, who is Online and has a Credit Card, will accept a loan is 0.0932 or 9.32%\n"
     ]
    }
   ],
   "source": [
    "# B\n",
    "# P (Personal Loan = 1 | CreditCard = 1, Online = 1)\n",
    "\n",
    "ccLoanOnline = pivotTable.loc[1, 1][1]\n",
    "ccOnline = pivotTable.loc[1, 0][1] \n",
    "\n",
    "prob = ((ccLoanOnline) / (ccLoanOnline + ccOnline))\n",
    "print(f\"The conditional probability that a customer, who is Online and has a Credit Card, will accept a loan is {round(prob, 4)} or {100 * round(prob, 4)}%\")\n"
   ]
  },
  {
   "cell_type": "code",
   "execution_count": 405,
   "id": "6c4b3e4a-bb12-4fdb-8920-281fa3b0335c",
   "metadata": {},
   "outputs": [
    {
     "name": "stdout",
     "output_type": "stream",
     "text": [
      "Online            0     1\n",
      "Personal Loan            \n",
      "0              1119  1594\n",
      "1               112   175\n",
      "\n",
      "CreditCard        0    1\n",
      "Personal Loan           \n",
      "0              1909  804\n",
      "1               199   88\n"
     ]
    }
   ],
   "source": [
    "# C\n",
    "pivotTableOnline = pd.pivot_table(trainData, values='CreditCard', index=['Personal Loan'], columns=['Online'], aggfunc='count')\n",
    "pivotTableCC = pd.pivot_table(trainData, values='Online', index=['Personal Loan'], columns=['CreditCard'], aggfunc='count')\n",
    "\n",
    "print(pivotTableOnline)\n",
    "print()\n",
    "print(pivotTableCC)"
   ]
  },
  {
   "cell_type": "code",
   "execution_count": 390,
   "id": "f087f98d-10b5-49f1-8ccf-5a35c8cdaca8",
   "metadata": {},
   "outputs": [
    {
     "name": "stdout",
     "output_type": "stream",
     "text": [
      "I.  0.307\n",
      "II.  0.61\n",
      "III.  0.5\n",
      "IV.  0.296\n",
      "V.  0.588\n",
      "VI.  0.904\n"
     ]
    }
   ],
   "source": [
    "# D \n",
    "numerator = pivotTableCC.iloc[1, 1]\n",
    "denominator = pivotTableCC.iloc[1].sum()\n",
    "answer1 = round((numerator/denominator), 3)\n",
    "print(\"I. \", str(answer1))\n",
    "\n",
    "numerator = pivotTableOnline.iloc[1, 1]\n",
    "denominator = pivotTableOnline.iloc[1].sum()\n",
    "answer2 = round((numerator/denominator), 3)\n",
    "print(\"II. \", str(answer2))\n",
    "\n",
    "numerator = pivotTableOnline.iloc[1].sum()\n",
    "denominator = pivotTableOnline.iloc[1].sum() + pivotTableCC.iloc[1].sum()\n",
    "answer3 = round((numerator/denominator), 3)\n",
    "print(\"III. \", str(answer3))\n",
    "\n",
    "numerator = pivotTableCC.iloc[0, 1]\n",
    "denominator = pivotTableCC.iloc[0].sum()\n",
    "answer4 = round((numerator/denominator), 3)\n",
    "print(\"IV. \", str(answer4))\n",
    "\n",
    "numerator = pivotTableOnline.iloc[0, 1]\n",
    "denominator = pivotTableOnline.iloc[0].sum()\n",
    "answer5 = round((numerator/denominator), 3)\n",
    "print(\"V. \", str(answer5))\n",
    "\n",
    "numerator = pivotTableOnline.iloc[0].sum() + pivotTableCC.iloc[0].sum()\n",
    "denominator = pivotTableOnline.iloc[0].sum() + pivotTableCC.iloc[0].sum() + pivotTableOnline.iloc[1].sum() + pivotTableCC.iloc[1].sum()\n",
    "answer6 = round((numerator/denominator), 3)\n",
    "print(\"VI. \", str(answer6))"
   ]
  },
  {
   "cell_type": "code",
   "execution_count": 406,
   "id": "326d2ec3-5818-42e7-aa31-ac8068efda97",
   "metadata": {},
   "outputs": [
    {
     "name": "stdout",
     "output_type": "stream",
     "text": [
      "Naive Bayes:  0.093635\n"
     ]
    }
   ],
   "source": [
    "# E\n",
    "p = float(answer1 * answer2 * answer3)\n",
    "print(\"Naive Bayes: \", p)"
   ]
  },
  {
   "cell_type": "code",
   "execution_count": 407,
   "id": "866557d1-4e5f-40bb-b1d2-108687b5ed42",
   "metadata": {},
   "outputs": [
    {
     "name": "stdout",
     "output_type": "stream",
     "text": [
      "The Naive Bayes probability of 0.093635 is extremely close to the probability calculated in B of 0.09315589353612168\n",
      "Naive Bayes is more accurate because the variables rely on other probabilistic calculations done in part D\n"
     ]
    }
   ],
   "source": [
    "# F\n",
    "print(f\"The Naive Bayes probability of {p} is extremely close to the probability calculated in B of {prob}\")\n",
    "print(\"Naive Bayes is more accurate because the variables rely on other probabilistic calculations done in part D\")\n"
   ]
  },
  {
   "cell_type": "code",
   "execution_count": 408,
   "id": "3963fbec-7d12-4560-8910-062d1dbe917d",
   "metadata": {},
   "outputs": [
    {
     "name": "stdout",
     "output_type": "stream",
     "text": [
      "The entries needed to compute Naive Bayes in E are the first three probablistic calculations.\n",
      "Parts I, II, and III are all calulated as independent variables that are then used in Naive Bayes.\n"
     ]
    }
   ],
   "source": [
    "# F\n",
    "print(\"The entries needed to compute Naive Bayes in E are the first three probablistic calculations.\")\n",
    "print(\"Parts I, II, and III are all calulated as independent variables that are then used in Naive Bayes.\")"
   ]
  },
  {
   "cell_type": "code",
   "execution_count": null,
   "id": "9413d016-fdba-449a-91e7-0b1df15781c4",
   "metadata": {},
   "outputs": [],
   "source": []
  }
 ],
 "metadata": {
  "kernelspec": {
   "display_name": "Python 3 (ipykernel)",
   "language": "python",
   "name": "python3"
  },
  "language_info": {
   "codemirror_mode": {
    "name": "ipython",
    "version": 3
   },
   "file_extension": ".py",
   "mimetype": "text/x-python",
   "name": "python",
   "nbconvert_exporter": "python",
   "pygments_lexer": "ipython3",
   "version": "3.10.9"
  }
 },
 "nbformat": 4,
 "nbformat_minor": 5
}
